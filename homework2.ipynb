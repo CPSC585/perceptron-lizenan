{
 "cells": [
  {
   "cell_type": "raw",
   "metadata": {},
   "source": [
    "\n",
    "dQ/dX\n",
    "X ---\\\n",
    "      \\    df/dQ\n",
    "       (*)---\\\n",
    " dQ/dY/   Q   \\\n",
    "Y ---/         \\\n",
    "                (+)--- f(x, y, z)\n",
    "               /   df/df\n",
    " df/dZ        /\n",
    "Z -----------/\n",
    "\n",
    "f(x, y, z) = X*Y+Z\n",
    "given Q = XY\n",
    "df/dQ = df/df * df/dQ\n",
    "df/dX = df/dQ * dQ/dX\n",
    "df/dY = df/dQ * dQ/dY\n",
    "df/dZ = df/df * df/dZ\n",
    "\n",
    "df/dQ = 1\n",
    "df/dX = 1 * Y\n",
    "df/dY = 1 * X\n",
    "df/dZ = 1\n"
   ]
  },
  {
   "cell_type": "code",
   "execution_count": 3,
   "metadata": {},
   "outputs": [
    {
     "name": "stdout",
     "output_type": "stream",
     "text": [
      "Gradients on X: 4, Y: 3 and Z: 1\n"
     ]
    }
   ],
   "source": [
    "def forward(x, y, z):\n",
    "    return z+(x * y)\n",
    "\n",
    "def backward(x, y, z):\n",
    "    dfdx = y\n",
    "    dfdy = x\n",
    "    dfdz = 1\n",
    "    return dfdx, dfdy, dfdz\n",
    "\n",
    "x = 3\n",
    "y = 4\n",
    "z = 7\n",
    "dx, dy, dz = backward(x, y, z)\n",
    "print (\"Gradients on X: {}, Y: {} and Z: {}\".format(dx, dy, dz))"
   ]
  },
  {
   "cell_type": "raw",
   "metadata": {},
   "source": [
    "dQ/dX\n",
    "X ---\\\n",
    "      \\    df/dQ\n",
    "       (+)---\\\n",
    " dQ/dY/   Q   \\\n",
    "Y ---/         \\\n",
    "                (*)--- f(x, y, z)---Loss\n",
    "               /   dL/df          dL/dL\n",
    "        df/dZ /\n",
    "Z -----------/\n",
    "\n",
    "L = (V - f(x,y,z))^2\n",
    "dL/dQ = dL/df * df/dQ\n",
    "dL/dX = dL/dQ * dQ/dX\n",
    "dL/dY = dL/dQ * dQ/dY\n",
    "dL/dZ = dL/df * df/dZ\n",
    "\n",
    "dL/dQ = -2(V-f)*1\n",
    "dL/dX = -2(V-f)*1*Y = dL/dQ*Y\n",
    "dL/dY = -2(V-f)*Z*1 = dL/dQ*X\n",
    "dL/dZ = -2(V-f)*1"
   ]
  },
  {
   "cell_type": "code",
   "execution_count": 6,
   "metadata": {},
   "outputs": [
    {
     "name": "stdout",
     "output_type": "stream",
     "text": [
      "Final Values of x: 14.841023641972367, y: 9.111165595298896 and z: 8.780975994243809\n",
      "Evaluation of (x * y) + z = 143.99999999999997\n"
     ]
    }
   ],
   "source": [
    "def backward_w_loss(V, x, y, z):\n",
    "    dldx = -2 * y * (V - ((x * y) + z))\n",
    "    dldy = -2 * x * (V - ((x * y) + z))\n",
    "    dldz = -2 * (V - ((x * y) + z))\n",
    "    return dldx, dldy, dldz\n",
    "                 \n",
    "x = 12.3791\n",
    "y = 1.4782\n",
    "z = 8.192\n",
    "alpha = 0.001\n",
    "final_value = 144\n",
    "n = 1000\n",
    "for i in range(n):\n",
    "    dx, dy, dz = backward_w_loss(final_value, x, y, z)\n",
    "    x = x - alpha * dx\n",
    "    y = y - alpha * dy\n",
    "    z = z - alpha * dz\n",
    "print (\"Final Values of x: {}, y: {} and z: {}\".format(x, y, z))\n",
    "# forward is only used here below\n",
    "print (\"Evaluation of (x * y) + z = {}\".format(forward(x, y, z)))"
   ]
  },
  {
   "cell_type": "code",
   "execution_count": 9,
   "metadata": {},
   "outputs": [
    {
     "name": "stdout",
     "output_type": "stream",
     "text": [
      "Final Values of x: 22.3466980551963, y: 22.3466980551963 and z: 388.62508602941466\n",
      "Evaluation of (x * y) + z = 887.9999999995287\n"
     ]
    }
   ],
   "source": [
    "x = 1\n",
    "y = 2\n",
    "z = 127\n",
    "alpha = 0.001\n",
    "final_value = 888\n",
    "n = 100000\n",
    "for i in range(n):\n",
    "    dx, dy, dz = backward_w_loss(final_value, x, y, z)\n",
    "    x = x - alpha * dx\n",
    "    y = y - alpha * dy\n",
    "    z = z - alpha * dz\n",
    "print (\"Final Values of x: {}, y: {} and z: {}\".format(x, y, z))\n",
    "# forward is only used here below\n",
    "print (\"Evaluation of (x * y) + z = {}\".format(forward(x, y, z)))"
   ]
  },
  {
   "cell_type": "code",
   "execution_count": null,
   "metadata": {
    "collapsed": true
   },
   "outputs": [],
   "source": []
  }
 ],
 "metadata": {
  "kernelspec": {
   "display_name": "Python 3",
   "language": "python",
   "name": "python3"
  },
  "language_info": {
   "codemirror_mode": {
    "name": "ipython",
    "version": 3
   },
   "file_extension": ".py",
   "mimetype": "text/x-python",
   "name": "python",
   "nbconvert_exporter": "python",
   "pygments_lexer": "ipython3",
   "version": "3.6.1"
  }
 },
 "nbformat": 4,
 "nbformat_minor": 2
}
